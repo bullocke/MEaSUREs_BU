{
 "cells": [
  {
   "cell_type": "markdown",
   "metadata": {},
   "source": [
    "# Initial Setup."
   ]
  },
  {
   "cell_type": "code",
   "execution_count": 1,
   "metadata": {},
   "outputs": [],
   "source": [
    "from ipywidgets import Button, HBox, VBox, Label, BoundedIntText, HTML, Dropdown\n",
    "import bqplot\n",
    "import datetime\n",
    "import dateutil.parser\n",
    "import ee\n",
    "import ipywidgets\n",
    "import ipywidgets as widgets\n",
    "import IPython.display\n",
    "import numpy as np\n",
    "import pprint\n",
    "import pandas as pd\n",
    "import traitlets\n",
    "import ipyleaflet\n",
    "import geopandas\n",
    "import bqplot.pyplot as plt\n",
    "from dateutil import parser\n",
    "\n",
    "from bqplot.interacts import BrushSelector, BrushIntervalSelector\n",
    "\n",
    "import sqlite3\n",
    "import os\n",
    "\n",
    "import ccd\n",
    "\n",
    "# Turn off pandas warning\n",
    "pd.options.mode.chained_assignment = None\n",
    "\n",
    "# Configure the pretty printing output.\n",
    "pp = pprint.PrettyPrinter(depth=4)"
   ]
  },
  {
   "cell_type": "code",
   "execution_count": 2,
   "metadata": {},
   "outputs": [
    {
     "data": {
      "application/javascript": [
       "IPython.OutputArea.prototype._should_scroll = function(lines) {\n",
       "    return false;\n",
       "}"
      ],
      "text/plain": [
       "<IPython.core.display.Javascript object>"
      ]
     },
     "metadata": {},
     "output_type": "display_data"
    }
   ],
   "source": [
    "%%javascript\n",
    "IPython.OutputArea.prototype._should_scroll = function(lines) {\n",
    "    return false;\n",
    "}"
   ]
  },
  {
   "cell_type": "code",
   "execution_count": 3,
   "metadata": {},
   "outputs": [],
   "source": [
    "# Authenticate to the Earth Engine servers, and initialize the ee module.\n",
    "ee.Initialize()"
   ]
  },
  {
   "cell_type": "code",
   "execution_count": 4,
   "metadata": {},
   "outputs": [],
   "source": [
    "# Define database path and create if necessary\n",
    "dbPath = '/Users/ericbullock/Google Drive/Work/EarthEngine/referenceCollection/database/database'\n",
    "if not os.path.isfile(dbPath):\n",
    "    c.execute('''CREATE TABLE sample\n",
    "             (id real, lat real, lon real, year1 real, year2 real, class text, class2 text, confidence real)''')\n",
    "    print('Database created')\n"
   ]
  },
  {
   "cell_type": "code",
   "execution_count": 5,
   "metadata": {},
   "outputs": [],
   "source": [
    "# Functions to load collections, merge, filter and calculate statistics\n",
    "\n",
    "# Filter collection by point and date\n",
    "def collection_filtering(point, collection_name, year_range, doy_range):\n",
    "    collection = ee.ImageCollection(collection_name)\\\n",
    "    .filterBounds(point)\\\n",
    "    .filter(ee.Filter.calendarRange(year_range[0], year_range[1], 'year'))\\\n",
    "    .filter(ee.Filter.dayOfYear(doy_range[0],doy_range[1]))\n",
    "    return collection\n",
    "\n",
    "# Landsat stack renamers, C1\n",
    "def stack_renamer_l4_7_C1(img):\n",
    "    band_list = ['B1', 'B2','B3','B4','B5','B7', 'B6','pixel_qa']\n",
    "    name_list = ['BLUE','GREEN','RED','NIR','SWIR1','SWIR2','THERMAL','pixel_qa']\n",
    "    return ee.Image(img).select(band_list).rename(name_list)\n",
    "\n",
    "def stack_renamer_l8_C1(img):\n",
    "    band_list = ['B2', 'B3', 'B4', 'B5', 'B6', 'B7', 'B10','pixel_qa'];\n",
    "    name_list = ['BLUE', 'GREEN', 'RED', 'NIR', 'SWIR1', 'SWIR2','THERMAL','pixel_qa'];\n",
    "    return ee.Image(img).select(band_list).rename(name_list);\n",
    "\n",
    "\n",
    "# Cloud masking for C1, L4-L7. Operators capitalized to\n",
    "# avoid confusing with internal Python operators\n",
    "def cloud_mask_l4_7_C1(img):\n",
    "    pqa = ee.Image(img).select(['pixel_qa'])\n",
    "    mask = (pqa.eq(66)).Or(pqa.eq(130))\\\n",
    "    .Or(pqa.eq(68)).Or(pqa.eq(132))\n",
    "    return ee.Image(img).updateMask(mask)\n",
    "  \n",
    "# Cloud masking for C1, L8\n",
    "def cloud_mask_l8_C1(img):\n",
    "    pqa = ee.Image(img).select(['pixel_qa'])\n",
    "    mask = (pqa.eq(322)).Or(pqa.eq(386)).Or(pqa.eq(324))\\\n",
    "    .Or(pqa.eq(388)).Or(pqa.eq(836)).Or(pqa.eq(900))\n",
    "    return ee.Image(img).updateMask(mask)\n",
    "\n",
    "\n",
    "# Calculate period statistics, seems to work but it's so ugly!\n",
    "def calc_period_stats(yr_list, collection, reducer, stat_name, bands):\n",
    "    def auxfnc(year):\n",
    "        start = ee.Date(year)\n",
    "        end = start.advance(step, 'year').advance(-1, 'day')\n",
    "\n",
    "        return collection\\\n",
    "        .select(bands)\\\n",
    "        .filterDate(start, end)\\\n",
    "        .reduce(reducer)\\\n",
    "        .set({'system:time_start': start, 'system:time_end': end, 'statistic': stat_name})\n",
    "    period_stats = yr_list.map(auxfnc)\n",
    "    return period_stats\n",
    "\n",
    "def fc2df(fc):\n",
    "    # Convert a FeatureCollection into a pandas DataFrame\n",
    "    # Features is a list of dict with the output\n",
    "    features = fc.getInfo()['features']\n",
    "    dictarr = []\n",
    "    for f in features:\n",
    "        # Store all attributes in a dict\n",
    "        attr = f['properties']\n",
    "        dictarr.append(attr)\n",
    "\n",
    "    return pd.DataFrame(dictarr)\n",
    "\n",
    "def fc2dfgeo(fc):\n",
    "    # Convert a FeatureCollection into a pandas DataFrame\n",
    "    # Features is a list of dict with the output\n",
    "    features = fc.getInfo()['features']\n",
    "\n",
    "    dictarr = []\n",
    "\n",
    "    for f in features:\n",
    "        # Store all attributes in a dict\n",
    "        attr = f['properties']\n",
    "        # and treat geometry separately\n",
    "        attr['geometry'] = f['geometry']\n",
    "        dictarr.append(attr)\n",
    "\n",
    "    df = geopandas.GeoDataFrame(dictarr)\n",
    "    return df\n",
    "\n",
    "def get_df(collection, coords, band):\n",
    "    point = ee.Geometry.Point(coords)\n",
    "    # Sample for a time series of values at the point.\n",
    "    geom_values = collection.filterBounds(point).select(band).getRegion(geometry=point, scale=30)\n",
    "    geom_values_list = ee.List(geom_values).getInfo()\n",
    "    # Convert to a Pandas DataFrame.\n",
    "    header = geom_values_list[0]\n",
    "    data = pd.DataFrame(geom_values_list[1:], columns=header)\n",
    "    data['datetime'] = pd.to_datetime(data['time'], unit='ms', utc=True)\n",
    "    data.set_index('time')\n",
    "    data = data.sort_values('datetime')\n",
    "    data = data[['id', 'datetime', band]]\n",
    "    return data\n",
    "\n",
    "def GetTileLayerUrl(ee_image_object):\n",
    "  map_id = ee.Image(ee_image_object).getMapId()\n",
    "  tile_url_template = \"https://earthengine.googleapis.com/map/{mapid}/{{z}}/{{x}}/{{y}}?token={token}\"\n",
    "  return tile_url_template.format(**map_id)"
   ]
  },
  {
   "cell_type": "code",
   "execution_count": 6,
   "metadata": {},
   "outputs": [],
   "source": [
    "# Load, filter and merge collections\n",
    "\n",
    "def get_full_collection(coords, year_range, doy_range):\n",
    "    point = ee.Geometry.Point(coords)\n",
    "    l8_renamed = collection_filtering(point, 'LANDSAT/LC08/C01/T1_SR', year_range, doy_range)\\\n",
    "        .map(stack_renamer_l8_C1)\n",
    "    l8_filtered1 = l8_renamed.map(cloud_mask_l8_C1)\n",
    "\n",
    "    l7_renamed = collection_filtering(point, 'LANDSAT/LE07/C01/T1_SR', year_range, doy_range)\\\n",
    "        .map(stack_renamer_l4_7_C1);\n",
    "    l7_filtered1 = l7_renamed.map(cloud_mask_l4_7_C1)\n",
    "\n",
    "    l5_renamed = collection_filtering(point, 'LANDSAT/LT05/C01/T1_SR', year_range, doy_range)\\\n",
    "        .map(stack_renamer_l4_7_C1)\n",
    "    l5_filtered1 = l5_renamed.map(cloud_mask_l4_7_C1)\n",
    "\n",
    "\n",
    "    all_scenes = ee.ImageCollection((l8_filtered1.merge(l7_filtered1)).merge(l5_filtered1)).sort('system:time_start')\n",
    "    return all_scenes"
   ]
  },
  {
   "cell_type": "code",
   "execution_count": 7,
   "metadata": {},
   "outputs": [],
   "source": [
    "# PyCCD Functions\n",
    "# Functions for running pyccd\n",
    "def make_df_pyccd(collection, point):\n",
    "    band_list = ['BLUE', 'GREEN', 'RED', 'NIR', 'SWIR1', 'SWIR2','THERMAL', 'pixel_qa']\n",
    "    rename_list = ['BLUE', 'GREEN', 'RED', 'NIR', 'SWIR1', 'SWIR2','THERMAL', 'pixel_qa']\n",
    "    info = collection.getRegion(point, 30).getInfo()\n",
    "    header = info[0]\n",
    "    data = np.array(info[1:])\n",
    "    iTime = header.index('time')\n",
    "    time = [datetime.datetime.fromtimestamp(i/1000) for i in (data[0:,iTime].astype(int))]\n",
    "    time_new = [t.toordinal() for t in (time)]\n",
    "    iBands = [header.index(b) for b in band_list]\n",
    "    yData = data[0:,iBands].astype(np.float)\n",
    "    df = pd.DataFrame(data=yData, index=list(range(len(yData[:,0]))), columns=rename_list)\n",
    "    df['time'] = time_new\n",
    "    return df\n",
    "\n",
    "def update_df(df, df2):\n",
    "    df = df.append(df2)\n",
    "    return df\n",
    "\n",
    "def plot_pyccd(results, df, band, plotband, dates, yl, ylabel):\n",
    "    mask = np.array(results['processing_mask']).astype(np.bool_)\n",
    "    predicted_values = []\n",
    "    prediction_dates = []\n",
    "    break_dates = []\n",
    "    start_dates = []\n",
    "\n",
    "    #print(results)\n",
    "    for num, result in enumerate(results['change_models']):\n",
    "        days = np.arange(result['start_day'], result['end_day'] + 1)\n",
    "        prediction_dates.append(days)\n",
    "        break_dates.append(result['break_day'])\n",
    "        start_dates.append(result['start_day'])\n",
    "        intercept = result[list(result.keys())[6+band]]['intercept']\n",
    "        coef = result[list(result.keys())[6+band]]['coefficients']\n",
    "    \n",
    "        predicted_values.append(intercept + coef[0] * days +\n",
    "                                coef[1]*np.cos(days*1*2*np.pi/365.25) + coef[2]*np.sin(days*1*2*np.pi/365.25) +\n",
    "                                coef[3]*np.cos(days*2*2*np.pi/365.25) + coef[4]*np.sin(days*2*2*np.pi/365.25) +\n",
    "                                coef[5]*np.cos(days*3*2*np.pi/365.25) + coef[6]*np.sin(days*3*2*np.pi/365.25))\n",
    "    \n",
    "    num_breaks = len(break_dates)\n",
    "\n",
    "    # eric here\n",
    "    break_y = [plotband[dates == i][0] for i in break_dates]\n",
    "\n",
    "    #break_y = [0] * num_breaks\n",
    "    break_dates_plot = [datetime.datetime.fromordinal(i).strftime('%Y-%m-%d %H:%M:%S.%f') for i in break_dates]\n",
    "\n",
    "    plot_dates = np.array([datetime.datetime.fromordinal(i) for i in (dates)])\n",
    "\n",
    "    # Predicted curves\n",
    "    all_dates = []\n",
    "    all_preds = []\n",
    "    for _preddate, _predvalue in zip(prediction_dates, predicted_values):\n",
    "        all_dates.append(_preddate)\n",
    "        all_preds.append(_predvalue)\n",
    "        \n",
    "    all_preds = [item for sublist in all_preds for item in sublist]\n",
    "    all_dates = [item for sublist in all_dates for item in sublist]\n",
    "\n",
    "    date_ord = [datetime.datetime.fromordinal(i).strftime('%Y-%m-%d %H:%M:%S.%f') for i in all_dates]\n",
    "    _x = np.array(date_ord, dtype='datetime64')\n",
    "    _y = all_preds\n",
    "    lc4.x = _x\n",
    "    lc4.y = _y\n",
    "    lc5.x = np.array(break_dates_plot, dtype='datetime64')\n",
    "    lc5.y = break_y\n",
    "    \n",
    "def get_full_collection(coords, year_range, doy_range):\n",
    "    point = ee.Geometry.Point(coords)\n",
    "    l8_renamed = collection_filtering(point, 'LANDSAT/LC08/C01/T1_SR', year_range, doy_range)\\\n",
    "        .map(stack_renamer_l8_C1)\n",
    "    l8_filtered1 = l8_renamed.map(cloud_mask_l8_C1)\n",
    "\n",
    "    l7_renamed = collection_filtering(point, 'LANDSAT/LE07/C01/T1_SR', year_range, doy_range)\\\n",
    "        .map(stack_renamer_l4_7_C1);\n",
    "    l7_filtered1 = l7_renamed.map(cloud_mask_l4_7_C1)\n",
    "\n",
    "    l5_renamed = collection_filtering(point, 'LANDSAT/LT05/C01/T1_SR', year_range, doy_range)\\\n",
    "        .map(stack_renamer_l4_7_C1)\n",
    "    l5_filtered1 = l5_renamed.map(cloud_mask_l4_7_C1)\n",
    "\n",
    "\n",
    "    all_scenes = ee.ImageCollection((l8_filtered1.merge(l7_filtered1)).merge(l5_filtered1)).sort('system:time_start')\n",
    "    return all_scenes"
   ]
  },
  {
   "cell_type": "code",
   "execution_count": 8,
   "metadata": {},
   "outputs": [
    {
     "name": "stderr",
     "output_type": "stream",
     "text": [
      "/Users/ericbullock/anaconda/envs/measures/lib/python3.6/site-packages/ipykernel_launcher.py:51: DeprecationWarning: on_trait_change is deprecated in traitlets 4.1: use observe instead\n"
     ]
    }
   ],
   "source": [
    "class interface(object):\n",
    "    \"\"\"A class to hold interface for defining sample attributes\"\"\"\n",
    "    \n",
    "    def __init__(self, path):\n",
    "        interface.pathDB = path\n",
    "\n",
    "    # Years slider\n",
    "    years = widgets.IntRangeSlider(\n",
    "            value=[2012, 2015],\n",
    "            min=1990,\n",
    "            max=2018,\n",
    "            step=1,\n",
    "            description='Years:',\n",
    "            disabled=False,\n",
    "            continuous_update=False,\n",
    "            orientation='horizontal',\n",
    "            readout=True,\n",
    "            readout_format='d',\n",
    "        )\n",
    "    \n",
    "    # Secondary class information\n",
    "    tier_drop = widgets.Dropdown(\n",
    "                options=['Secondary Class Information'],\n",
    "                value='Secondary Class Information',\n",
    "                #rows=10,\n",
    "                description='Secondary:',\n",
    "                disabled=False\n",
    "            )\n",
    "    \n",
    "    def lc_clicked(_, old_selection, selection):\n",
    "        \"\"\" Generate secondary class selector after initial class is chosen \"\"\"\n",
    "        if selection == 'Forest':\n",
    "            interface.tier_drop.set_trait('options', ['Forest Type','Deciduous', 'Coniferous', 'Mangrove','Forested Wetland'])\n",
    "        elif selection == 'Water':\n",
    "            interface.tier_drop.set_trait('options', ['Water Type','Type1', 'Type2', 'Type3','Type4'])\n",
    "        elif selection == 'Developed':\n",
    "            interface.tier_drop.set_trait('options', ['Developed Type','Type1', 'Type2', 'Type3','Type4'])\n",
    "        elif selection == 'Ag/Past':\n",
    "            interface.tier_drop.set_trait('options', ['Ag/Pas Type','Type1', 'Type2', 'Type3','Type4'])\n",
    "    \n",
    "    # Primary class selector\n",
    "    lc = widgets.Dropdown(\n",
    "                options=['Select Class','Forest', 'Developed', 'Water','Ag/Past'],\n",
    "                value='Select Class',\n",
    "                #rows=10,\n",
    "                description='Select Class',\n",
    "                disabled=False\n",
    "              )\n",
    "\n",
    "    # When selected, run lc_clicked function\n",
    "    lc.on_trait_change(lc_clicked, 'value')\n",
    "    \n",
    "    # Display current validity of sample\n",
    "    valid = widgets.Valid(\n",
    "                value=False,\n",
    "                description='',\n",
    "            )\n",
    "\n",
    "    # Create button for checking validity\n",
    "    validate = widgets.Button(\n",
    "                value=False,\n",
    "                description='Validate',\n",
    "                disabled=False,\n",
    "                button_style='', \n",
    "                icon='check'\n",
    "                )\n",
    "    \n",
    "    def check_val_status(selection):\n",
    "        \"\"\" Check the validity of the current sample and change valid widget accordingly \"\"\"\n",
    "        selected_secondary_lc = False\n",
    "        wrote_correct_lc = False\n",
    "        if interface.tier_drop.value != 'Secondary Class Information':\n",
    "            selected_secondary_lc = True\n",
    "        else:\n",
    "            print(\"Must specify secondary class information!\")\n",
    "        if interface.lc.value.capitalize() == interface.textClass.value.capitalize():\n",
    "            wrote_correct_lc = True\n",
    "        if selected_secondary_lc and wrote_correct_lc:\n",
    "            interface.valid.value = True\n",
    "            interface.save_button.disabled = False\n",
    "            #interface.valid.set_trait('value',True)\n",
    "            #interface.save_button.set_trait('disabled',False)\n",
    "\n",
    "    # Call function check_val_status when button is clicked\n",
    "    validate.on_click(check_val_status)\n",
    "    \n",
    "    # Save the current sample, only possible when validity has been approved\n",
    "    save_button = widgets.Button(\n",
    "                value=False,\n",
    "                description='Save',\n",
    "                disabled=True,\n",
    "                button_style='', \n",
    "                )\n",
    "    \n",
    "    def save_sample(selection):\n",
    "        \"\"\" Save the sample to the database \"\"\"\n",
    "        # TODO: This should be backed up somehow\n",
    "        \n",
    "        # Connect to the database\n",
    "        conn = sqlite3.connect(interface.pathDB)\n",
    "\n",
    "        c = conn.cursor()\n",
    "\n",
    "        # Get everything in right format\n",
    "        year1 = interface.years.value[0]\n",
    "        year2 = interface.years.value[1]\n",
    "        lcClass = interface.lc.value\n",
    "        class2 = interface.tier_drop.value\n",
    "        conf = interface.confidence.value\n",
    "\n",
    "        # TODO: Read ID and geographic information from sample\n",
    "        idSample = 1\n",
    "        lat = 1\n",
    "        lon = 1\n",
    "\n",
    "        sampleInput = (idSample, lat, lon, year1, year2, lcClass, class2, conf)\n",
    "\n",
    "        # Put sample information into database\n",
    "        c.execute(\"\"\"insert into samples\n",
    "                  values {i}\"\"\".format(i=sampleInput))\n",
    "\n",
    "        # Save (commit) the changes\n",
    "        conn.commit()\n",
    "\n",
    "        # Close the cursor\n",
    "        c.close()\n",
    "\n",
    "        # Reset the buttons\n",
    "        #years.set_trait('value',[2012, 2015])\n",
    "        interface.lc.set_trait('value', 'Select Class')\n",
    "        interface.valid.set_trait('value',False)\n",
    "        interface.save_button.set_trait('disabled',True)\n",
    "        interface.textClass.set_trait('value','')\n",
    "\n",
    "    # Call function save_sample when clicking save button\n",
    "    save_button.on_click(save_sample)\n",
    "    \n",
    "    # Manually input class label\n",
    "    textClass = widgets.Text(\n",
    "                    value='',\n",
    "                    placeholder='',\n",
    "                    description='Enter Class',\n",
    "                    disabled=False\n",
    "                )\n",
    "    \n",
    "    # Interpreters confidence\n",
    "    confidence = widgets.IntSlider(\n",
    "                    value=0,\n",
    "                    min=0,\n",
    "                    max=3,\n",
    "                    step=1,\n",
    "                    description='Confidence:',\n",
    "                    disabled=False,\n",
    "                    continuous_update=False,\n",
    "                    orientation='horizontal',\n",
    "                    readout=True,\n",
    "                    readout_format='d'\n",
    "                    \n",
    "                )\n",
    "    \n",
    "    # Notes\n",
    "    notes = widgets.Textarea(\n",
    "                value='Enter any useful or interesting information about the sample.',\n",
    "                placeholder='Enter any useful or interesting information about the sample',\n",
    "                description='Notes:',\n",
    "                layout=widgets.Layout(width='70%'),\n",
    "                disabled=False\n",
    "            )\n",
    "    \n"
   ]
  },
  {
   "cell_type": "code",
   "execution_count": 9,
   "metadata": {},
   "outputs": [],
   "source": [
    "# Set global variables\n",
    "year_range = [ 2000, 2018 ];\n",
    "doy_range = [ 1, 365 ];\n",
    "step = 1 #in years"
   ]
  },
  {
   "cell_type": "code",
   "execution_count": 10,
   "metadata": {},
   "outputs": [],
   "source": [
    "# Load feature collection\n",
    "testfeat = ee.FeatureCollection(\"users/parevalo_bu/sample_13_15_labels_pts\")\n",
    "\n",
    "# Get collection as geopandas df\n",
    "df = fc2dfgeo(testfeat)"
   ]
  },
  {
   "cell_type": "code",
   "execution_count": 11,
   "metadata": {
    "scrolled": true
   },
   "outputs": [
    {
     "data": {
      "application/vnd.jupyter.widget-view+json": {
       "model_id": "a0987344c27f47078b64914da7512e63",
       "version_major": 2,
       "version_minor": 0
      },
      "text/plain": [
       "Label(value='')"
      ]
     },
     "metadata": {},
     "output_type": "display_data"
    },
    {
     "data": {
      "application/vnd.jupyter.widget-view+json": {
       "model_id": "a5656448bc624495b4fcd2a803ed0a87",
       "version_major": 2,
       "version_minor": 0
      },
      "text/plain": [
       "Map(basemap={'url': 'http://server.arcgisonline.com/ArcGIS/rest/services/World_Imagery/MapServer/tile/{z}/{y}/…"
      ]
     },
     "metadata": {},
     "output_type": "display_data"
    },
    {
     "data": {
      "application/vnd.jupyter.widget-view+json": {
       "model_id": "b10fb401d2c34180af846d715c740455",
       "version_major": 2,
       "version_minor": 0
      },
      "text/plain": [
       "VBox(children=(VBox(children=(HBox(children=(HTML(value=''), HTML(value='')), layout=Layout(width='100%')), HB…"
      ]
     },
     "metadata": {},
     "output_type": "display_data"
    },
    {
     "data": {
      "application/vnd.jupyter.widget-view+json": {
       "model_id": "86f4d4760d9242209f4e7fca6f6f0255",
       "version_major": 2,
       "version_minor": 0
      },
      "text/plain": [
       "HBox(children=(VBox(children=(IntRangeSlider(value=(2012, 2015), continuous_update=False, description='Years:'…"
      ]
     },
     "metadata": {},
     "output_type": "display_data"
    },
    {
     "data": {
      "application/vnd.jupyter.widget-view+json": {
       "model_id": "93df5a30385a4820a78f0fb97e1cc169",
       "version_major": 2,
       "version_minor": 0
      },
      "text/plain": [
       "VBox(children=(Textarea(value='Enter any useful or interesting information about the sample.', description='No…"
      ]
     },
     "metadata": {},
     "output_type": "display_data"
    },
    {
     "data": {
      "application/vnd.jupyter.widget-view+json": {
       "model_id": "79665804b66e411ea143b0f28561f20a",
       "version_major": 2,
       "version_minor": 0
      },
      "text/plain": [
       "VBox(children=(Dropdown(description='Select band', options=('BLUE', 'GREEN', 'RED', 'NIR', 'SWIR1', 'SWIR2'), …"
      ]
     },
     "metadata": {},
     "output_type": "display_data"
    }
   ],
   "source": [
    "# interface stuff\n",
    "# Generate sample interface\n",
    "newInterface = interface(dbPath)\n",
    "newInterface.valid.value = False\n",
    "\n",
    "# Create widget controls\n",
    "current_id = 0\n",
    "next_pt = Button(value=False, description='Next point', disabled=False) \n",
    "previous_pt = Button(value=False, description='Previous point', disabled=False)\n",
    "pyccd_button = Button(value=False, description='Run PyCCD', disabled=False)\n",
    "band_selector = Dropdown(options=['BLUE', 'GREEN', 'RED','NIR','SWIR1','SWIR2'], description='Select band', value=None)\n",
    "coords_label = Label()\n",
    "pt_message = HTML()\n",
    "time_label = HTML(value='')\n",
    "selected_label = HTML(\"ID of selected point\")\n",
    "hover_label = HTML(\"test value\")\n",
    "\n",
    "\n",
    "# Plot scales.\n",
    "lc1_x = bqplot.DateScale(min=datetime.date(2001, 2, 1), max=datetime.date(2018, 1, 1))\n",
    "lc2_y = bqplot.LinearScale(min=0, max=4000)\n",
    "\n",
    "# Main scatter plot for samples\n",
    "lc2 = bqplot.Scatter(\n",
    "    x=[],\n",
    "    y=[],\n",
    "    scales={'x': lc1_x, 'y': lc2_y},\n",
    "    size=[1,1],\n",
    "    interactions={'click': 'select', 'hover': 'tooltip'},\n",
    "    selected_style={'opacity': 1.0, 'fill': 'DarkOrange', 'stroke': 'Red'},\n",
    "    unselected_style={'opacity': 0.5},\n",
    "    display_legend=True,\n",
    "    labels = ['Sample point']\n",
    ")\n",
    "\n",
    "# Scatter plot for clicked points in map\n",
    "lc3 = bqplot.Scatter(\n",
    "    x=[],\n",
    "    y=[],\n",
    "    scales={'x': lc1_x, 'y': lc2_y},\n",
    "    size=[1,1],\n",
    "    colors=['red'],\n",
    "    interactions={'click': 'select', 'hover': 'tooltip'},\n",
    "    selected_style={'opacity': 1.0, 'fill': 'DarkOrange', 'stroke': 'Red'},\n",
    "    unselected_style={'opacity': 0.5},\n",
    "    display_legend=True,\n",
    "    labels = ['Clicked point']\n",
    ")\n",
    "\n",
    "lc4 = bqplot.Lines(\n",
    "    x=[],\n",
    "    y=[],\n",
    "    colors=['black'],\n",
    "    stroke_width=3,\n",
    "    scales={'x': lc1_x, 'y': lc2_y},\n",
    "    size=[1,1],\n",
    ")\n",
    "\n",
    "lc5 = bqplot.Scatter(\n",
    "    x=[],\n",
    "    y=[],\n",
    "    marker='triangle-up',\n",
    "    colors=['red'],\n",
    "    scales={'x': lc1_x, 'y': lc2_y},\n",
    "    size=[1,1],\n",
    "    display_legend=False,\n",
    "    labels = ['Model Endpoint']\n",
    ")\n",
    "\n",
    "# Plot axes.\n",
    "x_ax1 = bqplot.Axis(label='Date', scale=lc1_x, num_ticks = 6, tick_format='%Y')\n",
    "x_ay2 = bqplot.Axis(label='SWIR1', scale=lc2_y, orientation='vertical')\n",
    "\n",
    "# Brush selector for figure\n",
    "brushintsel = BrushIntervalSelector(scale=lc1_x)\n",
    "\n",
    "# Create a figure.\n",
    "fig = bqplot.Figure(\n",
    "    marks=[lc2, lc3, lc4, lc5],\n",
    "    axes=[x_ax1, x_ay2],\n",
    "    layout={'height':'300px', 'width':'800px'},\n",
    "    #interaction=brushintsel\n",
    ")\n",
    "\n",
    "# Get years from brush selector\n",
    "def get_scatter_years(*args):\n",
    "    date1 = parser.parse(str(brushintsel.selected[0])).year\n",
    "    date2 = parser.parse(str(brushintsel.selected[1])).year\n",
    "    newInterface.years = [date1, date2]\n",
    "\n",
    "    text_brush.value = \"Selected year range: {a}-{b}\".format(a=date1, b=date2)\n",
    "\n",
    "# The following text widgets are used to display the `selected` attributes\n",
    "text_brush = HTML(value = 'Selected year range:')\n",
    "\n",
    "brushintsel.observe(get_scatter_years, 'selected')\n",
    "\n",
    "#display(text_brush)\n",
    "#get_scatter_years()\n",
    "\n",
    "# Go back or forth between sample points\n",
    "def advance(b):\n",
    "    # Plot point in map\n",
    "    global current_id\n",
    "    lc4.x = []\n",
    "    lc4.y = []\n",
    "    lc5.x = []\n",
    "    lc5.y = []\n",
    "    lc5.display_legend=False\n",
    "    global pyccd_flag\n",
    "    pyccd_flag = False\n",
    "    newInterface.valid.value = False\n",
    "    newInterface.save_button.disabled = True\n",
    "    current_id += 1\n",
    "    gjson = ipyleaflet.GeoJSON(data=df['geometry'][current_id])\n",
    "    m.center = gjson.data['coordinates'][::-1]\n",
    "    m.zoom = 12\n",
    "    m.add_layer(gjson)\n",
    "    pt_message.value = \"Point ID: {}\".format(current_id)\n",
    "    # Plot TS\n",
    "    current_band = band_list[band_index]\n",
    "    point_ts = get_full_collection(df['geometry'][current_id]['coordinates'], year_range, doy_range)\n",
    "    point_df = get_df(point_ts, df['geometry'][current_id]['coordinates'], current_band).dropna()\n",
    "    lc2.x = point_df['datetime']\n",
    "    lc2.y = point_df[current_band]\n",
    "    \n",
    "\n",
    "def decrease(b):\n",
    "    # Plot point in map\n",
    "    global current_id\n",
    "    lc4.x = []\n",
    "    lc4.y = []\n",
    "    lc5.x = []\n",
    "    lc5.y = []\n",
    "    lc5.display_legend=False\n",
    "    global pyccd_flag\n",
    "    pyccd_flag = False\n",
    "    newInterface.valid.value = False\n",
    "    newInterface.save_button.disabled = True\n",
    "    current_id -= 1\n",
    "    gjson = ipyleaflet.GeoJSON(data=df['geometry'][current_id])\n",
    "    m.center = gjson.data['coordinates'][::-1]\n",
    "    m.zoom = 12\n",
    "    m.add_layer(gjson)\n",
    "    pt_message.value = \"Point ID: {}\".format(current_id)\n",
    "    # Plot TS\n",
    "    current_band = band_list[band_index]\n",
    "    point_ts = get_full_collection(df['geometry'][current_id]['coordinates'], year_range, doy_range)\n",
    "    point_df = get_df(point_ts, df['geometry'][current_id]['coordinates'], current_band).dropna()\n",
    "    lc2.x = point_df['datetime']\n",
    "    lc2.y = point_df[current_band]\n",
    "    \n",
    "# Create map interaction handler\n",
    "def handle_interaction(**kwargs):\n",
    "    if kwargs.get('type') == 'mousemove':\n",
    "        coords_label.value = str(kwargs.get('coordinates'))\n",
    "\n",
    "# Show selected point ID\n",
    "def click_event(self, target):\n",
    "    global current_id\n",
    "    pt_index = target['data']['index']\n",
    "    #selected_label.value = str(pt_index)\n",
    "    # Plot TS\n",
    "    gjson = ipyleaflet.GeoJSON(data=df['geometry'][current_id])\n",
    "    point_ts = get_full_collection(df['geometry'][current_id]['coordinates'], year_range, doy_range)\n",
    "    point_df = get_df(point_ts, df['geometry'][current_id]['coordinates'], 'SWIR1').dropna()\n",
    "    # Find clicked image. .values needed to access the nth element of that list instead of indexing by ID\n",
    "    image_id = point_df['id'].values[pt_index]\n",
    "    selected_image = ee.Image(point_ts.filterMetadata('system:index', 'equals', image_id).first())\n",
    "    tile_url = GetTileLayerUrl(selected_image.visualize(min=0, max=6000, bands= ['NIR', 'SWIR1', 'RED']))\n",
    "    m.add_layer(ipyleaflet.TileLayer(url=tile_url))\n",
    "    selected_label.value = image_id\n",
    "    \n",
    "# Run pyccd\n",
    "def run_pyccd(b):\n",
    "    # Run pyCCD on current point\n",
    "    # Display the legend\n",
    "    lc5.display_legend=True\n",
    "    \n",
    "    # Set flag\n",
    "    global pyccd_flag\n",
    "    pyccd_flag = True\n",
    "    \n",
    "    # Plot TS\n",
    "    name_list = ['BLUE', 'GREEN', 'RED', 'NIR', 'SWIR1', 'SWIR2','THERMAL', 'pixel_qa']\n",
    "    point_ts = get_full_collection(df['geometry'][current_id]['coordinates'], year_range, doy_range).select(name_list)\n",
    " \n",
    "    # Do PyCCD\n",
    "    pointGeo = ee.Geometry.Point(df['geometry'][current_id]['coordinates'])\n",
    "    dfPyCCD = make_df_pyccd(point_ts, pointGeo)\n",
    "    \n",
    "    dfPyCCD = dfPyCCD.sort_values('time')\n",
    "\n",
    "    dfPyCCD['pixel_qa'][dfPyCCD['pixel_qa'].isnull()] = 4\n",
    "    dfPyCCD[df.isnull()] = 0\n",
    "    dfPyCCD['pixel_qa'][dfPyCCD['pixel_qa'] > 4] = 0\n",
    "\n",
    "    #TODO: Paramaterize everything\n",
    "    params = {'QA_BITPACKED': False,\n",
    "              'QA_FILL': 255,\n",
    "              'QA_CLEAR': 0,\n",
    "              'QA_WATER': 1,\n",
    "              'QA_SHADOW': 2,\n",
    "              'QA_SNOW': 3,\n",
    "              'QA_CLOUD': 4}\n",
    "\n",
    "    dates = np.array(dfPyCCD['time'])\n",
    "    blues = np.array(dfPyCCD['BLUE'])\n",
    "    greens = np.array(dfPyCCD['GREEN'])\n",
    "    reds = np.array(dfPyCCD['RED'])\n",
    "    nirs = np.array(dfPyCCD['NIR'])\n",
    "    swir1s = np.array(dfPyCCD['SWIR1'])\n",
    "    swir2s = np.array(dfPyCCD['SWIR2'])\n",
    "    thermals = np.array(dfPyCCD['THERMAL'])\n",
    "    qas = np.array(dfPyCCD['pixel_qa'])\n",
    "    results = ccd.detect(dates, blues, greens, reds, nirs, swir1s, swir2s, thermals, qas, params=params)\n",
    "\n",
    "    band_names = ['Blue SR', 'Green SR', 'Red SR', 'NIR SR', 'SWIR1 SR', 'SWIR2 SR','THERMAL']\n",
    "    plotlabel = band_names[band_index] \n",
    "\n",
    "    plot_arrays = [blues, greens, reds, nirs, swir1s, swir2s]\n",
    "    plotband = plot_arrays[band_index]\n",
    "    plot_pyccd(results, df, band_index, plotband, dates, (0, 4000), 'PyCCD Results')\n",
    "    \n",
    "    \n",
    "# Handle hover on marker\n",
    "def hover_event(self, target):\n",
    "    hover_label.value = str(target['data']['x'])\n",
    "    \n",
    "# Handle marker creation\n",
    "def handle_draw(self, action, geo_json):\n",
    "    # Get the selected coordinates from the map's drawing control.\n",
    "    coords = geo_json['geometry']['coordinates']    \n",
    "    point_ts = get_full_collection(coords, year_range, doy_range)\n",
    "    point_df = get_df(point_ts, coords, band_selector.value).dropna()\n",
    "    lc3.x = point_df['datetime']\n",
    "    lc3.y = point_df[band_selector.value]\n",
    "\n",
    "# Update on dropdow selection\n",
    "def on_band_selection(change):\n",
    "    new_band = change['new']\n",
    "    global band_index\n",
    "    band_index = change['owner'].index\n",
    "\n",
    "    global current_id\n",
    "    gjson = ipyleaflet.GeoJSON(data=df['geometry'][current_id])\n",
    "    point_ts = get_full_collection(df['geometry'][current_id]['coordinates'], year_range, doy_range)\n",
    "    point_df = get_df(point_ts, df['geometry'][current_id]['coordinates'], new_band).dropna()\n",
    "    lc2.x = point_df['datetime']\n",
    "    lc2.y = point_df[new_band]\n",
    "    x_ay2.label = new_band\n",
    "    lc4.x = []\n",
    "    lc4.y = []\n",
    "    lc5.x = []\n",
    "    lc5.y = []\n",
    "    # TODO: This should not have to be ran again\n",
    "    if pyccd_flag:\n",
    "        run_pyccd(0)\n",
    "    \n",
    "    \n",
    "# Button and map interactions\n",
    "next_pt.on_click(advance)\n",
    "previous_pt.on_click(decrease)\n",
    "pyccd_button.on_click(run_pyccd)\n",
    "\n",
    "lc2.on_element_click(click_event)\n",
    "lc2.tooltip=hover_label\n",
    "lc2.on_hover(hover_event)\n",
    "\n",
    "lc3.on_element_click(click_event)\n",
    "lc3.tooltip=hover_label\n",
    "lc3.on_hover(hover_event)\n",
    "\n",
    "band_list =['BLUE', 'GREEN', 'RED','NIR','SWIR1','SWIR2']\n",
    "\n",
    "band_selector.observe(on_band_selection, names='value')\n",
    "global band_index\n",
    "band_index = 4\n",
    "global pyccd_flag\n",
    "pyccd_flag = False\n",
    "\n",
    "\n",
    "# Set up map and widgets, plot!\n",
    "display(coords_label)\n",
    "m = ipyleaflet.Map(zoom=5, layout={'height':'400px'}, \n",
    "                      center=(3.3890701010382958, -67.32297252983098),dragging=True,\n",
    "                     close_popup_on_click=False, basemap=ipyleaflet.basemaps.Esri.WorldImagery)\n",
    "\n",
    "dc = ipyleaflet.DrawControl(marker={'shapeOptions': {'fillcolor': '#ff0000', 'color': '#ff0000'}}, \n",
    "                            polygon={}, circle={}, circlemarker={}, polyline={})\n",
    "dc.on_draw(handle_draw)\n",
    "m.add_control(dc)\n",
    "m.on_interaction(handle_interaction)\n",
    "\n",
    "# Show widgets!\n",
    "info = HBox([pt_message, time_label], layout=widgets.Layout(width='100%'))\n",
    "buttons = HBox([previous_pt, next_pt, pyccd_button], layout=widgets.Layout(width='100%'))\n",
    "panel1 = VBox([info, buttons], layout=widgets.Layout(width='100%'))\n",
    "panel2 = VBox([band_selector, fig])\n",
    "controls = VBox([panel1])\n",
    "display(m)\n",
    "display(controls)\n",
    "\n",
    "\n",
    "\n",
    "# Organize into rows and columns with VBox and HBox\n",
    "left_box = VBox([newInterface.years, newInterface.lc, newInterface.confidence, newInterface.tier_drop, newInterface.textClass])\n",
    "#right_box = VBox([newInterface.confidence])\n",
    "save_box = HBox([newInterface.save_button, newInterface.validate, newInterface.valid])\n",
    "bottom_box = VBox([newInterface.notes, save_box])\n",
    "display(HBox([left_box]))\n",
    "#display(HBox([left_box, right_box]), layout=widgets.Layout(flex='1 1 auto'))\n",
    "\n",
    "display(bottom_box)\n",
    "display(panel2)\n",
    "\n",
    "#display(HTML('<style>.container { width:100% !important; }</style>'))"
   ]
  },
  {
   "cell_type": "code",
   "execution_count": null,
   "metadata": {},
   "outputs": [],
   "source": []
  },
  {
   "cell_type": "markdown",
   "metadata": {},
   "source": [
    "- Note: Change in dropdown doesn't change clicked TS, needs to be reclicked after the change"
   ]
  },
  {
   "cell_type": "code",
   "execution_count": 14,
   "metadata": {},
   "outputs": [
    {
     "data": {
      "text/html": [
       "<script>\n",
       "code_show=true; \n",
       "function code_toggle() {\n",
       " if (code_show){\n",
       " $('div.input').hide();\n",
       " } else {\n",
       " $('div.input').show();\n",
       " }\n",
       " code_show = !code_show\n",
       "} \n",
       "$( document ).ready(code_toggle);\n",
       "</script>\n",
       "To toggle on/off the raw code, click <a href=\"javascript:code_toggle()\">here</a>."
      ],
      "text/plain": [
       "<IPython.core.display.HTML object>"
      ]
     },
     "execution_count": 14,
     "metadata": {},
     "output_type": "execute_result"
    }
   ],
   "source": [
    "IPython.display.HTML('''<script>\n",
    "code_show=true; \n",
    "function code_toggle() {\n",
    " if (code_show){\n",
    " $('div.input').hide();\n",
    " } else {\n",
    " $('div.input').show();\n",
    " }\n",
    " code_show = !code_show\n",
    "} \n",
    "$( document ).ready(code_toggle);\n",
    "</script>\n",
    "To toggle on/off the raw code, click <a href=\"javascript:code_toggle()\">here</a>.''')"
   ]
  },
  {
   "cell_type": "code",
   "execution_count": 49,
   "metadata": {},
   "outputs": [
    {
     "data": {
      "text/html": [
       "<script>\n",
       "code_show_err=true; \n",
       "function code_toggle_err() {\n",
       " if (code_show_err){\n",
       " $('div.output_stderr').hide();\n",
       " } else {\n",
       " $('div.output_stderr').show();\n",
       " }\n",
       " code_show_err = !code_show_err\n",
       "} \n",
       "$( document ).ready(code_toggle_err);\n",
       "</script>\n",
       "To toggle on/off warnings, click <a href=\"javascript:code_toggle_err()\">here</a>."
      ],
      "text/plain": [
       "<IPython.core.display.HTML object>"
      ]
     },
     "execution_count": 49,
     "metadata": {},
     "output_type": "execute_result"
    }
   ],
   "source": [
    "IPython.display.HTML('''<script>\n",
    "code_show_err=true; \n",
    "function code_toggle_err() {\n",
    " if (code_show_err){\n",
    " $('div.output_stderr').hide();\n",
    " } else {\n",
    " $('div.output_stderr').show();\n",
    " }\n",
    " code_show_err = !code_show_err\n",
    "} \n",
    "$( document ).ready(code_toggle_err);\n",
    "</script>\n",
    "To toggle on/off warnings, click <a href=\"javascript:code_toggle_err()\">here</a>.''')"
   ]
  },
  {
   "cell_type": "code",
   "execution_count": 111,
   "metadata": {},
   "outputs": [
    {
     "data": {
      "text/plain": [
       "2004"
      ]
     },
     "execution_count": 111,
     "metadata": {},
     "output_type": "execute_result"
    }
   ],
   "source": [
    "from dateutil import parser\n",
    "\n",
    "parser.parse('2004-04-28T13:32:01.716000').year"
   ]
  },
  {
   "cell_type": "code",
   "execution_count": null,
   "metadata": {},
   "outputs": [],
   "source": []
  }
 ],
 "metadata": {
  "kernelspec": {
   "display_name": "Python 3",
   "language": "python",
   "name": "python3"
  },
  "language_info": {
   "codemirror_mode": {
    "name": "ipython",
    "version": 3
   },
   "file_extension": ".py",
   "mimetype": "text/x-python",
   "name": "python",
   "nbconvert_exporter": "python",
   "pygments_lexer": "ipython3",
   "version": "3.6.5"
  },
  "widgets": {
   "application/vnd.jupyter.widget-state+json": {
    "state": {
     "0604c7ef7e874b44a5b63029b45d7192": {
      "model_module": "@jupyter-widgets/controls",
      "model_module_version": "1.2.0",
      "model_name": "DescriptionStyleModel",
      "state": {
       "description_width": ""
      }
     },
     "0ec975614c4d40a2a34d850d9a9cf375": {
      "model_module": "bqplot",
      "model_module_version": "^0.4.1",
      "model_name": "LinearScaleModel",
      "state": {
       "allow_padding": false,
       "max": 1,
       "min": 0,
       "stabilized": false
      }
     },
     "11b97892366c463f87db22fc3a4b0850": {
      "model_module": "@jupyter-widgets/controls",
      "model_module_version": "1.2.0",
      "model_name": "VBoxModel",
      "state": {
       "children": [
        "IPY_MODEL_d3b2664b7ed94a81abc4b42efe7f887d",
        "IPY_MODEL_235f9627e33645b88b00310514faa3f5",
        "IPY_MODEL_51e3d52c2c864cd6acf57e907e009938",
        "IPY_MODEL_4acb2dded4c74beb9dd5656458d9a10c",
        "IPY_MODEL_c62704038e3946cca7b9c49343868a38"
       ],
       "layout": "IPY_MODEL_fdbd74eaadbb4c18939540b6c2170b24"
      }
     },
     "156b0a0422d449bca2854aac4d777215": {
      "model_module": "@jupyter-widgets/base",
      "model_module_version": "1.0.0",
      "model_name": "LayoutModel",
      "state": {
       "width": "100%"
      }
     },
     "21f8f4a57bad4a299dfac5b4312e611d": {
      "model_module": "@jupyter-widgets/base",
      "model_module_version": "1.0.0",
      "model_name": "LayoutModel",
      "state": {
       "width": "100%"
      }
     },
     "235f9627e33645b88b00310514faa3f5": {
      "model_module": "@jupyter-widgets/controls",
      "model_module_version": "1.2.0",
      "model_name": "DropdownModel",
      "state": {
       "_options_labels": [
        "Select Class",
        "Forest",
        "Developed",
        "Water",
        "Ag/Past"
       ],
       "description": "Select Class",
       "index": 0,
       "layout": "IPY_MODEL_6506391c7d9b4a528d3b9eb2d69a9bc2",
       "style": "IPY_MODEL_b1413af8ed0642af8623e5f8042bea35"
      }
     },
     "24bcb2eb2810413089578dfa51fa6d8b": {
      "model_module": "@jupyter-widgets/base",
      "model_module_version": "1.0.0",
      "model_name": "LayoutModel",
      "state": {}
     },
     "29b2627a12c048d3a7b35fc57682d026": {
      "model_module": "@jupyter-widgets/controls",
      "model_module_version": "1.2.0",
      "model_name": "HBoxModel",
      "state": {
       "children": [
        "IPY_MODEL_3d586740b84141c3acd8e41ed9b1bdb7",
        "IPY_MODEL_89e2d122b653474d8576fb8e50d00aa6",
        "IPY_MODEL_6200130dcb5a4b5cb682e08d5844dfdb"
       ],
       "layout": "IPY_MODEL_fc3b7eecf957445abdeac2c64fb0e332"
      }
     },
     "2c103d65542c4e4fa37135526c39c6cd": {
      "model_module": "@jupyter-widgets/base",
      "model_module_version": "1.0.0",
      "model_name": "LayoutModel",
      "state": {
       "width": "70%"
      }
     },
     "2d0f7cc7ed05446bb0fe88fe7a25a1c9": {
      "model_module": "@jupyter-widgets/controls",
      "model_module_version": "1.2.0",
      "model_name": "TextareaModel",
      "state": {
       "description": "Notes:",
       "layout": "IPY_MODEL_2c103d65542c4e4fa37135526c39c6cd",
       "placeholder": "Enter any useful or interesting information about the sample",
       "style": "IPY_MODEL_7e6e61df64ee4cdbbf480f2fca39bc40",
       "value": "Enter any useful or interesting information about the sample."
      }
     },
     "31cb755bdccb4294b398119e192ff687": {
      "model_module": "@jupyter-widgets/controls",
      "model_module_version": "1.2.0",
      "model_name": "DescriptionStyleModel",
      "state": {
       "description_width": ""
      }
     },
     "31eafb3a79454f1aa5781650e595635b": {
      "model_module": "@jupyter-widgets/base",
      "model_module_version": "1.0.0",
      "model_name": "LayoutModel",
      "state": {}
     },
     "3d586740b84141c3acd8e41ed9b1bdb7": {
      "model_module": "@jupyter-widgets/controls",
      "model_module_version": "1.2.0",
      "model_name": "ButtonModel",
      "state": {
       "description": "Previous point",
       "layout": "IPY_MODEL_bae81d74906d4f0f98d01f338ee35caf",
       "style": "IPY_MODEL_976ead891abc42298b9586ebd2227cf8"
      }
     },
     "3df68cd0bb9f406fb6ab7772625a37fd": {
      "model_module": "bqplot",
      "model_module_version": "^0.4.1",
      "model_name": "LinearScaleModel",
      "state": {
       "max": 4000,
       "min": 0,
       "stabilized": false
      }
     },
     "3ec652ce0f29460c80786e8c14d6d47b": {
      "model_module": "@jupyter-widgets/controls",
      "model_module_version": "1.2.0",
      "model_name": "ButtonStyleModel",
      "state": {}
     },
     "3f2f8e00fe93463da426c78dfef48713": {
      "model_module": "@jupyter-widgets/base",
      "model_module_version": "1.0.0",
      "model_name": "LayoutModel",
      "state": {}
     },
     "42e5f420d5424654b1eb39371b4ad6ca": {
      "model_module": "bqplot",
      "model_module_version": "^0.4.1",
      "model_name": "ScatterModel",
      "state": {
       "color": {
        "type": null,
        "values": null
       },
       "colors": [
        "red"
       ],
       "interactions": {
        "click": "select",
        "hover": "tooltip"
       },
       "labels": [
        "Clicked point"
       ],
       "names": {
        "type": null,
        "values": null
       },
       "opacity": {
        "type": null,
        "values": null
       },
       "rotation": {
        "type": null,
        "values": null
       },
       "scales": {
        "x": "IPY_MODEL_b2110e7852bb4a26829b600fe4a59b91",
        "y": "IPY_MODEL_3df68cd0bb9f406fb6ab7772625a37fd"
       },
       "scales_metadata": {
        "color": {
         "dimension": "color"
        },
        "opacity": {
         "dimension": "opacity"
        },
        "rotation": {
         "dimension": "rotation"
        },
        "size": {
         "dimension": "size"
        },
        "skew": {
         "dimension": "skew"
        },
        "x": {
         "dimension": "x",
         "orientation": "horizontal"
        },
        "y": {
         "dimension": "y",
         "orientation": "vertical"
        }
       },
       "selected": [],
       "selected_style": {
        "fill": "DarkOrange",
        "opacity": 1,
        "stroke": "Red"
       },
       "size": {
        "type": "float",
        "values": [
         1,
         1
        ]
       },
       "skew": {
        "type": null,
        "values": null
       },
       "tooltip": "IPY_MODEL_85671d7d327945f1b3d7bd8152c598c0",
       "unselected_style": {
        "opacity": 0.5
       },
       "x": {
        "type": "float",
        "values": []
       },
       "y": {
        "type": "float",
        "values": []
       }
      }
     },
     "43b25ca063704567826df6b384e4ed46": {
      "model_module": "@jupyter-widgets/controls",
      "model_module_version": "1.2.0",
      "model_name": "DescriptionStyleModel",
      "state": {
       "description_width": ""
      }
     },
     "43b5b31802014f08b6bbc470a2b37f9b": {
      "model_module": "@jupyter-widgets/base",
      "model_module_version": "1.0.0",
      "model_name": "LayoutModel",
      "state": {}
     },
     "46836c5eab9a412ab6ecf89e46251295": {
      "model_module": "@jupyter-widgets/controls",
      "model_module_version": "1.2.0",
      "model_name": "DescriptionStyleModel",
      "state": {
       "description_width": ""
      }
     },
     "4acb2dded4c74beb9dd5656458d9a10c": {
      "model_module": "@jupyter-widgets/controls",
      "model_module_version": "1.2.0",
      "model_name": "DropdownModel",
      "state": {
       "_options_labels": [
        "Secondary Class Information"
       ],
       "description": "Secondary:",
       "index": 0,
       "layout": "IPY_MODEL_bbf35909a2194c8caf19c4582be67ba8",
       "style": "IPY_MODEL_ab77718521164b94a903118233dbea9f"
      }
     },
     "4b75684a8aa34c7b9eb75592d943298b": {
      "model_module": "@jupyter-widgets/controls",
      "model_module_version": "1.2.0",
      "model_name": "DescriptionStyleModel",
      "state": {
       "description_width": ""
      }
     },
     "4bce8d364beb4c219c841b5bb816cf97": {
      "model_module": "@jupyter-widgets/base",
      "model_module_version": "1.0.0",
      "model_name": "LayoutModel",
      "state": {}
     },
     "4e571c325a89468685fca85795b64728": {
      "model_module": "@jupyter-widgets/base",
      "model_module_version": "1.0.0",
      "model_name": "LayoutModel",
      "state": {}
     },
     "4eab61036fa64b1fb702e175ec577249": {
      "model_module": "@jupyter-widgets/controls",
      "model_module_version": "1.2.0",
      "model_name": "DropdownModel",
      "state": {
       "_options_labels": [
        "BLUE",
        "GREEN",
        "RED",
        "NIR",
        "SWIR1",
        "SWIR2"
       ],
       "description": "Select band",
       "index": null,
       "layout": "IPY_MODEL_f5357347c751443092b6ae91aa50e0c5",
       "style": "IPY_MODEL_31cb755bdccb4294b398119e192ff687"
      }
     },
     "50a0557c3e4048d5a61d160fe2f88a01": {
      "model_module": "@jupyter-widgets/controls",
      "model_module_version": "1.2.0",
      "model_name": "SliderStyleModel",
      "state": {
       "description_width": ""
      }
     },
     "51e3d52c2c864cd6acf57e907e009938": {
      "model_module": "@jupyter-widgets/controls",
      "model_module_version": "1.2.0",
      "model_name": "IntSliderModel",
      "state": {
       "continuous_update": false,
       "description": "Confidence:",
       "layout": "IPY_MODEL_dfa87ab3b6e64e9ea555fc5e4b84926f",
       "max": 3,
       "style": "IPY_MODEL_50a0557c3e4048d5a61d160fe2f88a01"
      }
     },
     "5b60330785b546618e44da48ae0eb1bb": {
      "model_module": "@jupyter-widgets/controls",
      "model_module_version": "1.2.0",
      "model_name": "VBoxModel",
      "state": {
       "children": [
        "IPY_MODEL_cdca977634df41e2b2c1978073c6f6ab",
        "IPY_MODEL_29b2627a12c048d3a7b35fc57682d026"
       ],
       "layout": "IPY_MODEL_156b0a0422d449bca2854aac4d777215"
      }
     },
     "5bdf20eb39d64aeba87dac9a2f2eaa95": {
      "model_module": "bqplot",
      "model_module_version": "^0.4.1",
      "model_name": "LinesModel",
      "state": {
       "color": {
        "type": null,
        "values": null
       },
       "colors": [
        "black"
       ],
       "display_legend": false,
       "fill_colors": [],
       "scales": {
        "x": "IPY_MODEL_b2110e7852bb4a26829b600fe4a59b91",
        "y": "IPY_MODEL_3df68cd0bb9f406fb6ab7772625a37fd"
       },
       "selected": [],
       "stroke_width": 3,
       "x": {
        "type": "float",
        "values": []
       },
       "y": {
        "type": "float",
        "values": []
       }
      }
     },
     "609bcb071e3040418fcb2e0432adedcd": {
      "model_module": "@jupyter-widgets/controls",
      "model_module_version": "1.2.0",
      "model_name": "ButtonStyleModel",
      "state": {}
     },
     "60ab8d3d42894be68f9c43048b8cbfb3": {
      "model_module": "@jupyter-widgets/base",
      "model_module_version": "1.0.0",
      "model_name": "LayoutModel",
      "state": {}
     },
     "6200130dcb5a4b5cb682e08d5844dfdb": {
      "model_module": "@jupyter-widgets/controls",
      "model_module_version": "1.2.0",
      "model_name": "ButtonModel",
      "state": {
       "description": "Run PyCCD",
       "layout": "IPY_MODEL_43b5b31802014f08b6bbc470a2b37f9b",
       "style": "IPY_MODEL_8cc1c193a1bd4042ae034798e45bff68"
      }
     },
     "6249eecbd91845cc8710a18370d06841": {
      "model_module": "bqplot",
      "model_module_version": "^0.4.1",
      "model_name": "BrushIntervalSelectorModel",
      "state": {
       "scale": "IPY_MODEL_b2110e7852bb4a26829b600fe4a59b91",
       "selected": {
        "type": null,
        "values": null
       }
      }
     },
     "629b40d97c6447b289deb0cb4618e24f": {
      "model_module": "@jupyter-widgets/base",
      "model_module_version": "1.0.0",
      "model_name": "LayoutModel",
      "state": {}
     },
     "6506391c7d9b4a528d3b9eb2d69a9bc2": {
      "model_module": "@jupyter-widgets/base",
      "model_module_version": "1.0.0",
      "model_name": "LayoutModel",
      "state": {}
     },
     "65f5f00d91294353b684e78b93985244": {
      "model_module": "jupyter-leaflet",
      "model_module_version": "~0.9.0",
      "model_name": "LeafletDrawControlModel",
      "state": {
       "_model_module_version": "~0.9.0",
       "_view_count": null,
       "_view_module_version": "~0.9.0",
       "marker": {
        "shapeOptions": {
         "color": "#ff0000",
         "fillcolor": "#ff0000"
        }
       },
       "polygon": {},
       "polyline": {}
      }
     },
     "6f1227093f5b4603884f4cef71e64ed2": {
      "model_module": "@jupyter-widgets/controls",
      "model_module_version": "1.2.0",
      "model_name": "DescriptionStyleModel",
      "state": {
       "description_width": ""
      }
     },
     "7122faaf8a594f3cbde6245fdbc17e4e": {
      "model_module": "@jupyter-widgets/base",
      "model_module_version": "1.0.0",
      "model_name": "LayoutModel",
      "state": {}
     },
     "72c999e452354ec79363bb9c374c6519": {
      "model_module": "bqplot",
      "model_module_version": "^0.4.1",
      "model_name": "AxisModel",
      "state": {
       "label": "SWIR1",
       "orientation": "vertical",
       "scale": "IPY_MODEL_3df68cd0bb9f406fb6ab7772625a37fd",
       "side": "left",
       "tick_values": {
        "type": null,
        "values": null
       }
      }
     },
     "75d65a8e42fc4d5691d2f4e1ed35a70b": {
      "model_module": "@jupyter-widgets/controls",
      "model_module_version": "1.2.0",
      "model_name": "ButtonModel",
      "state": {
       "description": "Validate",
       "icon": "check",
       "layout": "IPY_MODEL_9e0cfa70e0fa4fe79372b6ef8633b70c",
       "style": "IPY_MODEL_609bcb071e3040418fcb2e0432adedcd"
      }
     },
     "79665804b66e411ea143b0f28561f20a": {
      "model_module": "@jupyter-widgets/controls",
      "model_module_version": "1.2.0",
      "model_name": "VBoxModel",
      "state": {
       "children": [
        "IPY_MODEL_4eab61036fa64b1fb702e175ec577249",
        "IPY_MODEL_caf966aa4dde482c8ada0d7f9b287644"
       ],
       "layout": "IPY_MODEL_60ab8d3d42894be68f9c43048b8cbfb3"
      }
     },
     "7bb02f4571594b19a1331729998a0fb2": {
      "model_module": "@jupyter-widgets/base",
      "model_module_version": "1.0.0",
      "model_name": "LayoutModel",
      "state": {
       "height": "400px"
      }
     },
     "7e6e61df64ee4cdbbf480f2fca39bc40": {
      "model_module": "@jupyter-widgets/controls",
      "model_module_version": "1.2.0",
      "model_name": "DescriptionStyleModel",
      "state": {
       "description_width": ""
      }
     },
     "85671d7d327945f1b3d7bd8152c598c0": {
      "model_module": "@jupyter-widgets/controls",
      "model_module_version": "1.2.0",
      "model_name": "HTMLModel",
      "state": {
       "layout": "IPY_MODEL_3f2f8e00fe93463da426c78dfef48713",
       "style": "IPY_MODEL_4b75684a8aa34c7b9eb75592d943298b",
       "value": "test value"
      }
     },
     "86f4d4760d9242209f4e7fca6f6f0255": {
      "model_module": "@jupyter-widgets/controls",
      "model_module_version": "1.2.0",
      "model_name": "HBoxModel",
      "state": {
       "children": [
        "IPY_MODEL_11b97892366c463f87db22fc3a4b0850"
       ],
       "layout": "IPY_MODEL_7122faaf8a594f3cbde6245fdbc17e4e"
      }
     },
     "89e2d122b653474d8576fb8e50d00aa6": {
      "model_module": "@jupyter-widgets/controls",
      "model_module_version": "1.2.0",
      "model_name": "ButtonModel",
      "state": {
       "description": "Next point",
       "layout": "IPY_MODEL_31eafb3a79454f1aa5781650e595635b",
       "style": "IPY_MODEL_e90aabfa6cf1432180f05f24bc32f0b9"
      }
     },
     "8b83e26d476a4646ad0d194e8a314e42": {
      "model_module": "@jupyter-widgets/controls",
      "model_module_version": "1.2.0",
      "model_name": "DescriptionStyleModel",
      "state": {
       "description_width": ""
      }
     },
     "8cc1c193a1bd4042ae034798e45bff68": {
      "model_module": "@jupyter-widgets/controls",
      "model_module_version": "1.2.0",
      "model_name": "ButtonStyleModel",
      "state": {}
     },
     "92eaa7d5979e4667b9acaea62567806e": {
      "model_module": "@jupyter-widgets/base",
      "model_module_version": "1.0.0",
      "model_name": "LayoutModel",
      "state": {}
     },
     "931b6ea92f5b421592f9b548a8421559": {
      "model_module": "@jupyter-widgets/base",
      "model_module_version": "1.0.0",
      "model_name": "LayoutModel",
      "state": {}
     },
     "93df5a30385a4820a78f0fb97e1cc169": {
      "model_module": "@jupyter-widgets/controls",
      "model_module_version": "1.2.0",
      "model_name": "VBoxModel",
      "state": {
       "children": [
        "IPY_MODEL_2d0f7cc7ed05446bb0fe88fe7a25a1c9",
        "IPY_MODEL_d2d2b6e7b8f84f5ba4bd801906098d51"
       ],
       "layout": "IPY_MODEL_a10f3ef6871149f29fdf488101cdd4e2"
      }
     },
     "976ead891abc42298b9586ebd2227cf8": {
      "model_module": "@jupyter-widgets/controls",
      "model_module_version": "1.2.0",
      "model_name": "ButtonStyleModel",
      "state": {}
     },
     "9e0cfa70e0fa4fe79372b6ef8633b70c": {
      "model_module": "@jupyter-widgets/base",
      "model_module_version": "1.0.0",
      "model_name": "LayoutModel",
      "state": {}
     },
     "a0987344c27f47078b64914da7512e63": {
      "model_module": "@jupyter-widgets/controls",
      "model_module_version": "1.2.0",
      "model_name": "LabelModel",
      "state": {
       "layout": "IPY_MODEL_4e571c325a89468685fca85795b64728",
       "style": "IPY_MODEL_6f1227093f5b4603884f4cef71e64ed2",
       "value": "[11.60986600591, -87.50562635963405]"
      }
     },
     "a10f3ef6871149f29fdf488101cdd4e2": {
      "model_module": "@jupyter-widgets/base",
      "model_module_version": "1.0.0",
      "model_name": "LayoutModel",
      "state": {}
     },
     "a5656448bc624495b4fcd2a803ed0a87": {
      "model_module": "jupyter-leaflet",
      "model_module_version": "~0.9.0",
      "model_name": "LeafletMapModel",
      "state": {
       "_dom_classes": [],
       "_model_module_version": "~0.9.0",
       "_view_count": null,
       "_view_module_version": "~0.9.0",
       "basemap": {
        "attribution": "Tiles &copy; Esri &mdash; Source: Esri, i-cubed, USDA, USGS, AEX, GeoEye, Getmapping, Aerogrid, IGN, IGP, UPR-EGP, and the GIS User Community",
        "max_zoom": 20,
        "name": "Esri.WorldImagery",
        "url": "http://server.arcgisonline.com/ArcGIS/rest/services/World_Imagery/MapServer/tile/{z}/{y}/{x}"
       },
       "center": [
        3.3890701010382958,
        -67.32297252983098
       ],
       "close_popup_on_click": false,
       "controls": [
        "IPY_MODEL_65f5f00d91294353b684e78b93985244"
       ],
       "east": -45.74707031250001,
       "interpolation": "bilinear",
       "layers": [
        "IPY_MODEL_f1642af4ef604de9bf142b73234b926b"
       ],
       "layout": "IPY_MODEL_7bb02f4571594b19a1331729998a0fb2",
       "modisdate": "yesterday",
       "north": 12.08229583736359,
       "options": [
        "attribution_control",
        "basemap",
        "bounce_at_zoom_limits",
        "box_zoom",
        "center",
        "close_popup_on_click",
        "double_click_zoom",
        "dragging",
        "inertia",
        "inertia_deceleration",
        "inertia_max_speed",
        "interpolation",
        "keyboard",
        "keyboard_pan_offset",
        "keyboard_zoom_offset",
        "max_zoom",
        "min_zoom",
        "scroll_wheel_zoom",
        "tap",
        "tap_tolerance",
        "touch_zoom",
        "world_copy_jump",
        "zoom",
        "zoom_animation_threshold",
        "zoom_control",
        "zoom_start"
       ],
       "south": -5.397273407690904,
       "west": -88.857421875,
       "zoom": 5
      }
     },
     "a7f3577239374688b104035cfd43e46b": {
      "model_module": "@jupyter-widgets/controls",
      "model_module_version": "1.2.0",
      "model_name": "ValidModel",
      "state": {
       "layout": "IPY_MODEL_fdd8bde920db4057a48dbeb83e8e682e",
       "style": "IPY_MODEL_8b83e26d476a4646ad0d194e8a314e42"
      }
     },
     "ab77718521164b94a903118233dbea9f": {
      "model_module": "@jupyter-widgets/controls",
      "model_module_version": "1.2.0",
      "model_name": "DescriptionStyleModel",
      "state": {
       "description_width": ""
      }
     },
     "b10fb401d2c34180af846d715c740455": {
      "model_module": "@jupyter-widgets/controls",
      "model_module_version": "1.2.0",
      "model_name": "VBoxModel",
      "state": {
       "children": [
        "IPY_MODEL_5b60330785b546618e44da48ae0eb1bb"
       ],
       "layout": "IPY_MODEL_f2383eff9059426aac9d42d474bbca53"
      }
     },
     "b1413af8ed0642af8623e5f8042bea35": {
      "model_module": "@jupyter-widgets/controls",
      "model_module_version": "1.2.0",
      "model_name": "DescriptionStyleModel",
      "state": {
       "description_width": ""
      }
     },
     "b1737772fcda4676bf2038b1b5fa95d5": {
      "model_module": "@jupyter-widgets/controls",
      "model_module_version": "1.2.0",
      "model_name": "HTMLModel",
      "state": {
       "layout": "IPY_MODEL_4bce8d364beb4c219c841b5bb816cf97",
       "style": "IPY_MODEL_43b25ca063704567826df6b384e4ed46"
      }
     },
     "b2110e7852bb4a26829b600fe4a59b91": {
      "model_module": "bqplot",
      "model_module_version": "^0.4.1",
      "model_name": "DateScaleModel",
      "state": {
       "max": "2018-01-01T00:00:00.000000",
       "min": "2001-02-01T00:00:00.000000"
      }
     },
     "bae81d74906d4f0f98d01f338ee35caf": {
      "model_module": "@jupyter-widgets/base",
      "model_module_version": "1.0.0",
      "model_name": "LayoutModel",
      "state": {}
     },
     "bbf35909a2194c8caf19c4582be67ba8": {
      "model_module": "@jupyter-widgets/base",
      "model_module_version": "1.0.0",
      "model_name": "LayoutModel",
      "state": {}
     },
     "bcb51c129646455986f23a3348dbe5eb": {
      "model_module": "@jupyter-widgets/base",
      "model_module_version": "1.0.0",
      "model_name": "LayoutModel",
      "state": {}
     },
     "c11b31d6e108479eb1189def82d3cf24": {
      "model_module": "@jupyter-widgets/controls",
      "model_module_version": "1.2.0",
      "model_name": "DescriptionStyleModel",
      "state": {
       "description_width": ""
      }
     },
     "c1c85467008b429782681162d97ef884": {
      "model_module": "@jupyter-widgets/controls",
      "model_module_version": "1.2.0",
      "model_name": "HTMLModel",
      "state": {
       "layout": "IPY_MODEL_92eaa7d5979e4667b9acaea62567806e",
       "style": "IPY_MODEL_c11b31d6e108479eb1189def82d3cf24"
      }
     },
     "c498a1e072ee4ff5bb43148e4861c9a2": {
      "model_module": "@jupyter-widgets/controls",
      "model_module_version": "1.2.0",
      "model_name": "HTMLModel",
      "state": {
       "layout": "IPY_MODEL_629b40d97c6447b289deb0cb4618e24f",
       "style": "IPY_MODEL_0604c7ef7e874b44a5b63029b45d7192",
       "value": "ID of selected point"
      }
     },
     "c62704038e3946cca7b9c49343868a38": {
      "model_module": "@jupyter-widgets/controls",
      "model_module_version": "1.2.0",
      "model_name": "TextModel",
      "state": {
       "description": "Enter Class",
       "layout": "IPY_MODEL_efd92fa44a084986af31761f724eb808",
       "placeholder": "",
       "style": "IPY_MODEL_ffb782275e694924b1cb572647df08a8"
      }
     },
     "caf966aa4dde482c8ada0d7f9b287644": {
      "model_module": "bqplot",
      "model_module_version": "^0.4.1",
      "model_name": "FigureModel",
      "state": {
       "_dom_classes": [],
       "axes": [
        "IPY_MODEL_fed5bfdb5455451ea35ee7304c0dae8c",
        "IPY_MODEL_72c999e452354ec79363bb9c374c6519"
       ],
       "layout": "IPY_MODEL_f0fd94251f6045b68f9263864b4582d2",
       "marks": [
        "IPY_MODEL_f598a34a7f354435b5e2350ba69f6dac",
        "IPY_MODEL_42e5f420d5424654b1eb39371b4ad6ca",
        "IPY_MODEL_5bdf20eb39d64aeba87dac9a2f2eaa95",
        "IPY_MODEL_d03c691c4d7648698b99d89854489447"
       ],
       "scale_x": "IPY_MODEL_e05eef8b2aa64796bf7a878f490851e7",
       "scale_y": "IPY_MODEL_0ec975614c4d40a2a34d850d9a9cf375"
      }
     },
     "cdca977634df41e2b2c1978073c6f6ab": {
      "model_module": "@jupyter-widgets/controls",
      "model_module_version": "1.2.0",
      "model_name": "HBoxModel",
      "state": {
       "children": [
        "IPY_MODEL_c1c85467008b429782681162d97ef884",
        "IPY_MODEL_b1737772fcda4676bf2038b1b5fa95d5"
       ],
       "layout": "IPY_MODEL_21f8f4a57bad4a299dfac5b4312e611d"
      }
     },
     "d03c691c4d7648698b99d89854489447": {
      "model_module": "bqplot",
      "model_module_version": "^0.4.1",
      "model_name": "ScatterModel",
      "state": {
       "color": {
        "type": null,
        "values": null
       },
       "colors": [
        "red"
       ],
       "display_legend": false,
       "labels": [
        "Model Endpoint"
       ],
       "marker": "triangle-up",
       "names": {
        "type": null,
        "values": null
       },
       "opacity": {
        "type": null,
        "values": null
       },
       "rotation": {
        "type": null,
        "values": null
       },
       "scales": {
        "x": "IPY_MODEL_b2110e7852bb4a26829b600fe4a59b91",
        "y": "IPY_MODEL_3df68cd0bb9f406fb6ab7772625a37fd"
       },
       "scales_metadata": {
        "color": {
         "dimension": "color"
        },
        "opacity": {
         "dimension": "opacity"
        },
        "rotation": {
         "dimension": "rotation"
        },
        "size": {
         "dimension": "size"
        },
        "skew": {
         "dimension": "skew"
        },
        "x": {
         "dimension": "x",
         "orientation": "horizontal"
        },
        "y": {
         "dimension": "y",
         "orientation": "vertical"
        }
       },
       "selected": [],
       "size": {
        "type": "float",
        "values": [
         1,
         1
        ]
       },
       "skew": {
        "type": null,
        "values": null
       },
       "x": {
        "type": "float",
        "values": []
       },
       "y": {
        "type": "float",
        "values": []
       }
      }
     },
     "d2d2b6e7b8f84f5ba4bd801906098d51": {
      "model_module": "@jupyter-widgets/controls",
      "model_module_version": "1.2.0",
      "model_name": "HBoxModel",
      "state": {
       "children": [
        "IPY_MODEL_de07b59d2ecb459d9272aae9f259942a",
        "IPY_MODEL_75d65a8e42fc4d5691d2f4e1ed35a70b",
        "IPY_MODEL_a7f3577239374688b104035cfd43e46b"
       ],
       "layout": "IPY_MODEL_931b6ea92f5b421592f9b548a8421559"
      }
     },
     "d3b2664b7ed94a81abc4b42efe7f887d": {
      "model_module": "@jupyter-widgets/controls",
      "model_module_version": "1.2.0",
      "model_name": "IntRangeSliderModel",
      "state": {
       "_model_name": "IntRangeSliderModel",
       "_view_name": "IntRangeSliderView",
       "continuous_update": false,
       "description": "Years:",
       "layout": "IPY_MODEL_bcb51c129646455986f23a3348dbe5eb",
       "max": 2018,
       "min": 1990,
       "style": "IPY_MODEL_ddb86d196ddc4ef58c744415b802ea68",
       "value": [
        2012,
        2015
       ]
      }
     },
     "ddb86d196ddc4ef58c744415b802ea68": {
      "model_module": "@jupyter-widgets/controls",
      "model_module_version": "1.2.0",
      "model_name": "SliderStyleModel",
      "state": {
       "description_width": ""
      }
     },
     "de07b59d2ecb459d9272aae9f259942a": {
      "model_module": "@jupyter-widgets/controls",
      "model_module_version": "1.2.0",
      "model_name": "ButtonModel",
      "state": {
       "description": "Save",
       "disabled": true,
       "layout": "IPY_MODEL_de334b88c29441018e7c6036fd54cfa2",
       "style": "IPY_MODEL_3ec652ce0f29460c80786e8c14d6d47b"
      }
     },
     "de334b88c29441018e7c6036fd54cfa2": {
      "model_module": "@jupyter-widgets/base",
      "model_module_version": "1.0.0",
      "model_name": "LayoutModel",
      "state": {}
     },
     "dfa87ab3b6e64e9ea555fc5e4b84926f": {
      "model_module": "@jupyter-widgets/base",
      "model_module_version": "1.0.0",
      "model_name": "LayoutModel",
      "state": {}
     },
     "e05eef8b2aa64796bf7a878f490851e7": {
      "model_module": "bqplot",
      "model_module_version": "^0.4.1",
      "model_name": "LinearScaleModel",
      "state": {
       "allow_padding": false,
       "max": 1,
       "min": 0,
       "stabilized": false
      }
     },
     "e8684909e17a4b9e83685f38c1805f55": {
      "model_module": "@jupyter-widgets/controls",
      "model_module_version": "1.2.0",
      "model_name": "HTMLModel",
      "state": {
       "layout": "IPY_MODEL_24bcb2eb2810413089578dfa51fa6d8b",
       "style": "IPY_MODEL_46836c5eab9a412ab6ecf89e46251295",
       "value": "Selected year range:"
      }
     },
     "e90aabfa6cf1432180f05f24bc32f0b9": {
      "model_module": "@jupyter-widgets/controls",
      "model_module_version": "1.2.0",
      "model_name": "ButtonStyleModel",
      "state": {}
     },
     "efd92fa44a084986af31761f724eb808": {
      "model_module": "@jupyter-widgets/base",
      "model_module_version": "1.0.0",
      "model_name": "LayoutModel",
      "state": {}
     },
     "f0fd94251f6045b68f9263864b4582d2": {
      "model_module": "@jupyter-widgets/base",
      "model_module_version": "1.0.0",
      "model_name": "LayoutModel",
      "state": {
       "height": "300px",
       "width": "800px"
      }
     },
     "f1642af4ef604de9bf142b73234b926b": {
      "model_module": "jupyter-leaflet",
      "model_module_version": "~0.9.0",
      "model_name": "LeafletTileLayerModel",
      "state": {
       "_model_module_version": "~0.9.0",
       "_view_count": null,
       "_view_module_version": "~0.9.0",
       "attribution": "Tiles &copy; Esri &mdash; Source: Esri, i-cubed, USDA, USGS, AEX, GeoEye, Getmapping, Aerogrid, IGN, IGP, UPR-EGP, and the GIS User Community",
       "base": true,
       "max_zoom": 20,
       "min_zoom": 1,
       "name": "Esri.WorldImagery",
       "options": [
        "attribution",
        "detect_retina",
        "max_zoom",
        "min_zoom",
        "tile_size"
       ],
       "url": "http://server.arcgisonline.com/ArcGIS/rest/services/World_Imagery/MapServer/tile/{z}/{y}/{x}"
      }
     },
     "f2383eff9059426aac9d42d474bbca53": {
      "model_module": "@jupyter-widgets/base",
      "model_module_version": "1.0.0",
      "model_name": "LayoutModel",
      "state": {}
     },
     "f5357347c751443092b6ae91aa50e0c5": {
      "model_module": "@jupyter-widgets/base",
      "model_module_version": "1.0.0",
      "model_name": "LayoutModel",
      "state": {}
     },
     "f598a34a7f354435b5e2350ba69f6dac": {
      "model_module": "bqplot",
      "model_module_version": "^0.4.1",
      "model_name": "ScatterModel",
      "state": {
       "color": {
        "type": null,
        "values": null
       },
       "colors": [
        "steelblue"
       ],
       "interactions": {
        "click": "select",
        "hover": "tooltip"
       },
       "labels": [
        "Sample point"
       ],
       "names": {
        "type": null,
        "values": null
       },
       "opacity": {
        "type": null,
        "values": null
       },
       "rotation": {
        "type": null,
        "values": null
       },
       "scales": {
        "x": "IPY_MODEL_b2110e7852bb4a26829b600fe4a59b91",
        "y": "IPY_MODEL_3df68cd0bb9f406fb6ab7772625a37fd"
       },
       "scales_metadata": {
        "color": {
         "dimension": "color"
        },
        "opacity": {
         "dimension": "opacity"
        },
        "rotation": {
         "dimension": "rotation"
        },
        "size": {
         "dimension": "size"
        },
        "skew": {
         "dimension": "skew"
        },
        "x": {
         "dimension": "x",
         "orientation": "horizontal"
        },
        "y": {
         "dimension": "y",
         "orientation": "vertical"
        }
       },
       "selected": [],
       "selected_style": {
        "fill": "DarkOrange",
        "opacity": 1,
        "stroke": "Red"
       },
       "size": {
        "type": "float",
        "values": [
         1,
         1
        ]
       },
       "skew": {
        "type": null,
        "values": null
       },
       "tooltip": "IPY_MODEL_85671d7d327945f1b3d7bd8152c598c0",
       "unselected_style": {
        "opacity": 0.5
       },
       "x": {
        "type": "float",
        "values": []
       },
       "y": {
        "type": "float",
        "values": []
       }
      }
     },
     "fc3b7eecf957445abdeac2c64fb0e332": {
      "model_module": "@jupyter-widgets/base",
      "model_module_version": "1.0.0",
      "model_name": "LayoutModel",
      "state": {
       "width": "100%"
      }
     },
     "fdbd74eaadbb4c18939540b6c2170b24": {
      "model_module": "@jupyter-widgets/base",
      "model_module_version": "1.0.0",
      "model_name": "LayoutModel",
      "state": {}
     },
     "fdd8bde920db4057a48dbeb83e8e682e": {
      "model_module": "@jupyter-widgets/base",
      "model_module_version": "1.0.0",
      "model_name": "LayoutModel",
      "state": {}
     },
     "fed5bfdb5455451ea35ee7304c0dae8c": {
      "model_module": "bqplot",
      "model_module_version": "^0.4.1",
      "model_name": "AxisModel",
      "state": {
       "label": "Date",
       "num_ticks": 6,
       "scale": "IPY_MODEL_b2110e7852bb4a26829b600fe4a59b91",
       "side": "bottom",
       "tick_format": "%Y",
       "tick_values": {
        "type": null,
        "values": null
       }
      }
     },
     "ffb782275e694924b1cb572647df08a8": {
      "model_module": "@jupyter-widgets/controls",
      "model_module_version": "1.2.0",
      "model_name": "DescriptionStyleModel",
      "state": {
       "description_width": ""
      }
     }
    },
    "version_major": 2,
    "version_minor": 0
   }
  }
 },
 "nbformat": 4,
 "nbformat_minor": 2
}
