{
 "cells": [
  {
   "cell_type": "code",
   "execution_count": 1,
   "metadata": {},
   "outputs": [],
   "source": [
    "# User interface for training data collection"
   ]
  },
  {
   "cell_type": "code",
   "execution_count": 26,
   "metadata": {},
   "outputs": [],
   "source": [
    "from ipywidgets import interact, interactive, fixed, interact_manual\n",
    "from ipywidgets import Button, HBox, VBox\n",
    "import sqlite3\n",
    "import ipywidgets as widgets\n",
    "from functools import partial\n",
    "import bqplot\n",
    "import datetime\n",
    "import dateutil.parser\n",
    "import ee\n",
    "import ipywidgets\n",
    "import IPython.display\n",
    "import numpy as np\n",
    "import pprint\n",
    "import pandas as pd\n",
    "import traitlets\n",
    "import ipyleaflet\n",
    "from ipyleaflet import basemaps\n",
    "from IPython.display import HTML\n",
    "import datetime\n",
    "import os\n",
    "\n",
    "pp = pprint.PrettyPrinter(depth=4)\n"
   ]
  },
  {
   "cell_type": "code",
   "execution_count": 27,
   "metadata": {},
   "outputs": [],
   "source": [
    "# Authenticate to the Earth Engine servers, and initialize the ee module.\n",
    "ee.Initialize()"
   ]
  },
  {
   "cell_type": "code",
   "execution_count": 28,
   "metadata": {},
   "outputs": [
    {
     "data": {
      "text/html": [
       "<script>\n",
       "code_show=true; \n",
       "function code_toggle() {\n",
       " if (code_show){\n",
       " $('div.input').hide();\n",
       " } else {\n",
       " $('div.input').show();\n",
       " }\n",
       " code_show = !code_show\n",
       "} \n",
       "$( document ).ready(code_toggle);\n",
       "</script>\n",
       "To toggle on/off the raw code, click <a href=\"javascript:code_toggle()\">here</a>."
      ],
      "text/plain": [
       "<IPython.core.display.HTML object>"
      ]
     },
     "execution_count": 28,
     "metadata": {},
     "output_type": "execute_result"
    }
   ],
   "source": [
    "HTML('''<script>\n",
    "code_show=true; \n",
    "function code_toggle() {\n",
    " if (code_show){\n",
    " $('div.input').hide();\n",
    " } else {\n",
    " $('div.input').show();\n",
    " }\n",
    " code_show = !code_show\n",
    "} \n",
    "$( document ).ready(code_toggle);\n",
    "</script>\n",
    "To toggle on/off the raw code, click <a href=\"javascript:code_toggle()\">here</a>.''')"
   ]
  },
  {
   "cell_type": "code",
   "execution_count": 29,
   "metadata": {},
   "outputs": [
    {
     "name": "stderr",
     "output_type": "stream",
     "text": [
      "/Users/ericbullock/anaconda/lib/python2.7/site-packages/ipykernel_launcher.py:51: DeprecationWarning: on_trait_change is deprecated in traitlets 4.1: use observe instead\n"
     ]
    }
   ],
   "source": [
    "class interface(object):\n",
    "    \"\"\"A class to hold interface for defining sample attributes\"\"\"\n",
    "    \n",
    "    def __init__(self, path):\n",
    "        interface.pathDB = path\n",
    "\n",
    "    # Years slider\n",
    "    years = widgets.IntRangeSlider(\n",
    "            value=[2012, 2015],\n",
    "            min=1990,\n",
    "            max=2018,\n",
    "            step=1,\n",
    "            description='Years:',\n",
    "            disabled=False,\n",
    "            continuous_update=False,\n",
    "            orientation='horizontal',\n",
    "            readout=True,\n",
    "            readout_format='d',\n",
    "        )\n",
    "    \n",
    "    # Secondary class information\n",
    "    tier_drop = widgets.Dropdown(\n",
    "                options=['Secondary Class Information'],\n",
    "                value='Secondary Class Information',\n",
    "                #rows=10,\n",
    "                description='',\n",
    "                disabled=False\n",
    "            )\n",
    "    \n",
    "    def lc_clicked(_, old_selection, selection):\n",
    "        \"\"\" Generate secondary class selector after initial class is chosen \"\"\"\n",
    "        if selection == 'Forest':\n",
    "            interface.tier_drop.set_trait('options', ['Forest Type','Deciduous', 'Coniferous', 'Mangrove','Forested Wetland'])\n",
    "        elif selection == 'Water':\n",
    "            interface.tier_drop.set_trait('options', ['Water Type','Type1', 'Type2', 'Type3','Type4'])\n",
    "        elif selection == 'Developed':\n",
    "            interface.tier_drop.set_trait('options', ['Developed Type','Type1', 'Type2', 'Type3','Type4'])\n",
    "        elif selection == 'Ag/Past':\n",
    "            interface.tier_drop.set_trait('options', ['Ag/Pas Type','Type1', 'Type2', 'Type3','Type4'])\n",
    "    \n",
    "    # Primary class selector\n",
    "    lc = widgets.Dropdown(\n",
    "                options=['Select Class','Forest', 'Developed', 'Water','Ag/Past'],\n",
    "                value='Select Class',\n",
    "                #rows=10,\n",
    "                description='',\n",
    "                disabled=False\n",
    "              )\n",
    "\n",
    "    # When selected, run lc_clicked function\n",
    "    lc.on_trait_change(lc_clicked, 'value')\n",
    "    \n",
    "    # Display current validity of sample\n",
    "    valid = widgets.Valid(\n",
    "                value=False,\n",
    "                description='Valid!',\n",
    "            )\n",
    "\n",
    "    # Create button for checking validity\n",
    "    validate = widgets.Button(\n",
    "                value=False,\n",
    "                description='Validate',\n",
    "                disabled=False,\n",
    "                button_style='', \n",
    "                icon='check'\n",
    "                )\n",
    "    \n",
    "    def check_val_status(selection):\n",
    "        \"\"\" Check the validity of the current sample and change valid widget accordingly \"\"\"\n",
    "        if interface.lc.value.capitalize() == interface.textClass.value.capitalize():\n",
    "            interface.valid.set_trait('value',True)\n",
    "            interface.save_button.set_trait('disabled',False)\n",
    "\n",
    "    # Call function check_val_status when button is clicked\n",
    "    validate.on_click(check_val_status)\n",
    "    \n",
    "    # Save the current sample, only possible when validity has been approved\n",
    "    save_button = widgets.Button(\n",
    "                value=False,\n",
    "                description='Save',\n",
    "                disabled=True,\n",
    "                button_style='', \n",
    "                )\n",
    "    \n",
    "    def save_sample(selection):\n",
    "        \"\"\" Save the sample to the database \"\"\"\n",
    "        # TODO: This should be backed up somehow\n",
    "        \n",
    "        # Connect to the database\n",
    "        conn = sqlite3.connect(interface.pathDB)\n",
    "\n",
    "        c = conn.cursor()\n",
    "\n",
    "        # Get everything in right format\n",
    "        year1 = interface.years.value[0]\n",
    "        year2 = interface.years.value[1]\n",
    "        lcClass = interface.lc.value\n",
    "        class2 = interface.tier_drop.value\n",
    "        conf = interface.confidence.value\n",
    "\n",
    "        # TODO: Read ID and geographic information from sample\n",
    "        idSample = 1\n",
    "        lat = 1\n",
    "        lon = 1\n",
    "\n",
    "        sampleInput = (idSample, lat, lon, year1, year2, lcClass, class2, conf)\n",
    "\n",
    "        # Put sample information into database\n",
    "        c.execute(\"\"\"insert into samples\n",
    "                  values {i}\"\"\".format(i=sampleInput))\n",
    "\n",
    "        # Save (commit) the changes\n",
    "        conn.commit()\n",
    "\n",
    "        # Close the cursor\n",
    "        c.close()\n",
    "\n",
    "        # Reset the buttons\n",
    "        years.set_trait('value',[2012, 2015])\n",
    "        lc.set_trait('value', 'Select Class')\n",
    "        valid.set_trait('value',False)\n",
    "        save_button.set_trait('disabled',True)\n",
    "        textClass.set_trait('value','')\n",
    "\n",
    "    # Call function save_sample when clicking save button\n",
    "    save_button.on_click(save_sample)\n",
    "    \n",
    "    # Manually input class label\n",
    "    textClass = widgets.Text(\n",
    "                    value='',\n",
    "                    placeholder='',\n",
    "                    description='Class',\n",
    "                    disabled=False\n",
    "                )\n",
    "    \n",
    "    # Interpreters confidence\n",
    "    confidence = widgets.IntSlider(\n",
    "                    value=0,\n",
    "                    min=0,\n",
    "                    max=10,\n",
    "                    step=1,\n",
    "                    description='Confidence:',\n",
    "                    disabled=False,\n",
    "                    continuous_update=False,\n",
    "                    orientation='horizontal',\n",
    "                    readout=True,\n",
    "                    readout_format='d',\n",
    "                )\n",
    "    \n",
    "\n"
   ]
  },
  {
   "cell_type": "code",
   "execution_count": 30,
   "metadata": {},
   "outputs": [],
   "source": [
    "# Define database path and create if necessary\n",
    "dbPath = '/Users/ericbullock/Google Drive/Work/EarthEngine/referenceCollection/database/database'\n",
    "if not os.path.isfile(dbPath):\n",
    "    c.execute('''CREATE TABLE sample\n",
    "             (id real, lat real, lon real, year1 real, year2 real, class text, class2 text, confidence real)''')\n",
    "    print 'Database created'\n",
    "\n"
   ]
  },
  {
   "cell_type": "code",
   "execution_count": 31,
   "metadata": {},
   "outputs": [
    {
     "data": {
      "application/vnd.jupyter.widget-view+json": {
       "model_id": "fe1fb3a9a635421eb684357633134135",
       "version_major": 2,
       "version_minor": 0
      },
      "text/html": [
       "<p>Failed to display Jupyter Widget of type <code>HBox</code>.</p>\n",
       "<p>\n",
       "  If you're reading this message in the Jupyter Notebook or JupyterLab Notebook, it may mean\n",
       "  that the widgets JavaScript is still loading. If this message persists, it\n",
       "  likely means that the widgets JavaScript library is either not installed or\n",
       "  not enabled. See the <a href=\"https://ipywidgets.readthedocs.io/en/stable/user_install.html\">Jupyter\n",
       "  Widgets Documentation</a> for setup instructions.\n",
       "</p>\n",
       "<p>\n",
       "  If you're reading this message in another frontend (for example, a static\n",
       "  rendering on GitHub or <a href=\"https://nbviewer.jupyter.org/\">NBViewer</a>),\n",
       "  it may mean that your frontend doesn't currently support widgets.\n",
       "</p>\n"
      ],
      "text/plain": [
       "HBox(children=(VBox(children=(IntRangeSlider(value=(2012, 2015), continuous_update=False, description=u'Years:', max=2018, min=1990), Dropdown(options=('Select Class', 'Forest', 'Developed', 'Water', 'Ag/Past'), value='Select Class'), Text(value=u'', description=u'Class', placeholder=u''), Valid(value=False, description=u'Valid!'))), VBox(children=(Dropdown(options=('Secondary Class Information',), value='Secondary Class Information'), IntSlider(value=0, continuous_update=False, description=u'Confidence:', max=10), Button(description=u'Validate', icon=u'check', style=ButtonStyle()), Button(description=u'Save', disabled=True, style=ButtonStyle())))))"
      ]
     },
     "metadata": {},
     "output_type": "display_data"
    }
   ],
   "source": [
    "# Generate sample interface\n",
    "newInterface = interface(dbPath)\n",
    "\n",
    "# Organize into rows and columns with VBox and HBox\n",
    "left_box = VBox([newInterface.years, newInterface.lc, newInterface.textClass, newInterface.valid])\n",
    "right_box = VBox([newInterface.tier_drop, newInterface.confidence, newInterface.validate, newInterface.save_button])\n",
    "HBox([left_box, right_box])"
   ]
  },
  {
   "cell_type": "code",
   "execution_count": 23,
   "metadata": {},
   "outputs": [
    {
     "name": "stdout",
     "output_type": "stream",
     "text": [
      "['id', 'lat', 'lon', 'year1', 'year2', 'class', 'class2', 'confidence']\n",
      "(1.0, 1.0, 1.0, 2007.0, 2011.0, u'Forest', u'Secondary Class Information', 0.0)\n",
      "(1.0, 1.0, 1.0, 1995.0, 2004.0, u'Forest', u'Deciduous', 1.0)\n",
      "(1.0, 1.0, 1.0, 2012.0, 2015.0, u'Select Class', u'Developed Type', 1.0)\n",
      "(1.0, 1.0, 1.0, 2012.0, 2015.0, u'Select Class', u'Developed Type', 1.0)\n",
      "(1.0, 1.0, 1.0, 2012.0, 2015.0, u'Forest', u'Deciduous', 0.0)\n"
     ]
    }
   ],
   "source": [
    "def showDB(dbPath):\n",
    "    \"\"\" Display the contents of a database\"\"\"\n",
    "    conn = sqlite3.connect(dbPath)\n",
    "    c = conn.cursor()\n",
    "    cursor = c.execute('select * from samples order by id')\n",
    "    print list(map(lambda x: x[0], cursor.description))\n",
    "    for row in cursor:\n",
    "        print row\n",
    "    c.close()\n",
    "    cursor.close()\n",
    "    \n",
    "showDB(dbPath)"
   ]
  },
  {
   "cell_type": "code",
   "execution_count": 25,
   "metadata": {},
   "outputs": [
    {
     "name": "stdout",
     "output_type": "stream",
     "text": [
      "ELB_samples_2018-9-18_10-35\n"
     ]
    }
   ],
   "source": [
    "# get output name\n",
    "def make_output_name(user, prefix):\n",
    "    \"\"\" Generate output name based on current time\"\"\"\n",
    "    name = 'ELB'\n",
    "    now = datetime.datetime.now()\n",
    "    hour = now.hour\n",
    "    minute = now.minute\n",
    "    year = now.year\n",
    "    month = now.month\n",
    "    day = now.day\n",
    "    output = user + prefix + str(year) + '-' + str(month) + '-' + str(day) + '_' + str(hour) + '-' + str(minute)\n",
    "    return output\n",
    "\n",
    "test_name = make_output_name('ELB','_Samples_')\n",
    "print(test_name)"
   ]
  },
  {
   "cell_type": "code",
   "execution_count": null,
   "metadata": {},
   "outputs": [],
   "source": []
  }
 ],
 "metadata": {
  "kernelspec": {
   "display_name": "Python 2",
   "language": "python",
   "name": "python2"
  },
  "language_info": {
   "codemirror_mode": {
    "name": "ipython",
    "version": 2
   },
   "file_extension": ".py",
   "mimetype": "text/x-python",
   "name": "python",
   "nbconvert_exporter": "python",
   "pygments_lexer": "ipython2",
   "version": "2.7.13"
  }
 },
 "nbformat": 4,
 "nbformat_minor": 2
}
